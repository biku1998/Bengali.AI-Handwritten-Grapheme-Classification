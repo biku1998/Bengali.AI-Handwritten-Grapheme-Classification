{
 "cells": [
  {
   "cell_type": "markdown",
   "metadata": {},
   "source": [
    "### Bengali handwritten computer vision challange notebook\n",
    "\n",
    "> Resources i have used\n",
    "* Pytorch dataset documentation [Here](https://pytorch.org/tutorials/beginner/data_loading_tutorial.html)\n",
    "* Pytorch pre-trained models [Here](https://pytorch.org/tutorials/beginner/blitz/cifar10_tutorial.html#sphx-glr-beginner-blitz-cifar10-tutorial-py)\n",
    "* A lot of google searches 😅\n",
    "\n",
    "* **Task**\n",
    "<img src=\"https://www.googleapis.com/download/storage/v1/b/kaggle-user-content/o/inbox%2F1095143%2Fa9a48686e3f385d9456b59bf2035594c%2Fdesc.png?generation=1576531903599785&alt=media\" style =\"height : 500px\">\n",
    "\n",
    "> The task is multiple classification, given an image you have to predict it's grapheme_root, consonant_diacritic and vowel_diacritic\n",
    "* **Approach**\n",
    "> I have used ResNe34 pre-trained model from pytorch, removed the last Linear layer, and added 3 Fully connected layer to classify each category.\n",
    "\n",
    "> **Outline**\n",
    "* I have converted all the data into images before hand, i.e reading all the parquet files and building images from each row. \n",
    "* Create a Dataset class for the data, For this just follow the pytorch docs and you will good to go.\n",
    "* Create Model\n",
    "* Train the Model\n",
    "* Create Dataset class for testset\n",
    "* create submission file"
   ]
  },
  {
   "cell_type": "code",
   "execution_count": 1,
   "metadata": {
    "colab": {},
    "colab_type": "code",
    "id": "MBsT0V5WzrFt"
   },
   "outputs": [],
   "source": [
    "import os\n",
    "import torch\n",
    "import pandas as pd\n",
    "from skimage import io, transform\n",
    "import numpy as np\n",
    "import albumentations\n",
    "from torchvision import transforms, utils,models\n",
    "import torch.nn as nn\n",
    "from torch.utils.data import Dataset, DataLoader\n",
    "from torch.nn import functional as F\n",
    "import matplotlib.pyplot as plt\n",
    "from tqdm import tqdm\n",
    "import glob\n",
    "from PIL import Image\n",
    "import PIL"
   ]
  },
  {
   "cell_type": "code",
   "execution_count": 2,
   "metadata": {
    "colab": {
     "base_uri": "https://localhost:8080/",
     "height": 34
    },
    "colab_type": "code",
    "executionInfo": {
     "elapsed": 56,
     "status": "ok",
     "timestamp": 1585027966819,
     "user": {
      "displayName": "SOURABH KUMAR",
      "photoUrl": "https://lh3.googleusercontent.com/a-/AOh14GgzI8b3bKj6EzkhmqlaVoF-1-VKe5-NIoIoK9J8iQ=s64",
      "userId": "05670567564810889409"
     },
     "user_tz": -330
    },
    "id": "s2CZxw5ZEjux",
    "outputId": "5f597206-df46-4ac4-e5d1-3b2504729e29"
   },
   "outputs": [
    {
     "name": "stdout",
     "output_type": "stream",
     "text": [
      "cuda:0\n"
     ]
    }
   ],
   "source": [
    "device = device = torch.device(\"cuda:0\" if torch.cuda.is_available() else \"cpu\")\n",
    "\n",
    "print(device)"
   ]
  },
  {
   "cell_type": "markdown",
   "metadata": {},
   "source": [
    "* Download all the data and put everything in a file called data,"
   ]
  },
  {
   "cell_type": "code",
   "execution_count": 3,
   "metadata": {
    "colab": {
     "base_uri": "https://localhost:8080/",
     "height": 259
    },
    "colab_type": "code",
    "executionInfo": {
     "elapsed": 59,
     "status": "ok",
     "timestamp": 1585027967128,
     "user": {
      "displayName": "SOURABH KUMAR",
      "photoUrl": "https://lh3.googleusercontent.com/a-/AOh14GgzI8b3bKj6EzkhmqlaVoF-1-VKe5-NIoIoK9J8iQ=s64",
      "userId": "05670567564810889409"
     },
     "user_tz": -330
    },
    "id": "pxJ7jZYazrFy",
    "outputId": "6379c3bc-b6e9-403d-efe5-687e6f30e0f7"
   },
   "outputs": [
    {
     "data": {
      "text/plain": [
       "['.ipynb_checkpoints',\n",
       " 'class_map.csv',\n",
       " 'class_map_corrected.csv',\n",
       " 'sample_submission.csv',\n",
       " 'test.csv',\n",
       " 'test_image_data_0.parquet',\n",
       " 'test_image_data_1.parquet',\n",
       " 'test_image_data_2.parquet',\n",
       " 'test_image_data_3.parquet',\n",
       " 'train.csv',\n",
       " 'train_image_data_0.parquet',\n",
       " 'train_image_data_1.parquet',\n",
       " 'train_image_data_2.parquet',\n",
       " 'train_image_data_3.parquet',\n",
       " 'train_multi_diacritics.csv']"
      ]
     },
     "execution_count": 3,
     "metadata": {},
     "output_type": "execute_result"
    }
   ],
   "source": [
    "os.listdir('./data')"
   ]
  },
  {
   "cell_type": "markdown",
   "metadata": {},
   "source": [
    "* The below method will convert all the parquet files to images"
   ]
  },
  {
   "cell_type": "code",
   "execution_count": 4,
   "metadata": {
    "colab": {},
    "colab_type": "code",
    "id": "nNGUwIMczrF2"
   },
   "outputs": [],
   "source": [
    "# Data-transform class\n",
    "\n",
    "def transform_data(files_location,set_ = 'Train'):\n",
    "    \"\"\"\n",
    "    This function will load all the parquet files one by one and convert them to images\n",
    "    parameters :\n",
    "    files_location : location where all the files are present i.e .parquet and csv files\n",
    "    set_ : train or test set,\n",
    "    \"\"\"\n",
    "\n",
    "    files = glob.glob(files_location+f'{set_}_*.parquet')\n",
    "\n",
    "    for f in files:\n",
    "        df = pd.read_parquet(f)\n",
    "        image_ids = df.image_id.values\n",
    "\n",
    "        df = df.drop('image_id',axis = 1)\n",
    "\n",
    "        image_array = df.values\n",
    "\n",
    "        if os.path.isdir(f'./{set_}_images') == False:\n",
    "            os.mkdir(f'./{set_}_images')\n",
    "\n",
    "        print(f'Transforming {f} from {set_} :\\n')\n",
    "        for i,img_id in tqdm(enumerate(image_ids),total = len(image_ids),unit=\" image\"):\n",
    "            img = image_array[i,:].reshape(137,236).astype(float)\n",
    "            img_RGB  = Image.fromarray(img).convert(\"RGB\")\n",
    "            img_RGB.save(f'./{set_}_images/{img_id}.jpg')\n"
   ]
  },
  {
   "cell_type": "code",
   "execution_count": 5,
   "metadata": {
    "colab": {},
    "colab_type": "code",
    "id": "02OzCTDAzrF5"
   },
   "outputs": [],
   "source": [
    "files_location = \"./data/\"\n",
    "transform_data(files_location)"
   ]
  },
  {
   "cell_type": "code",
   "execution_count": 6,
   "metadata": {
    "colab": {
     "base_uri": "https://localhost:8080/",
     "height": 34
    },
    "colab_type": "code",
    "executionInfo": {
     "elapsed": 134,
     "status": "ok",
     "timestamp": 1585027967879,
     "user": {
      "displayName": "SOURABH KUMAR",
      "photoUrl": "https://lh3.googleusercontent.com/a-/AOh14GgzI8b3bKj6EzkhmqlaVoF-1-VKe5-NIoIoK9J8iQ=s64",
      "userId": "05670567564810889409"
     },
     "user_tz": -330
    },
    "id": "4tEpCKv-5Zxx",
    "outputId": "7f12dc9c-6195-4831-e299-c2478fee94d2"
   },
   "outputs": [
    {
     "data": {
      "text/plain": [
       "200840"
      ]
     },
     "execution_count": 6,
     "metadata": {},
     "output_type": "execute_result"
    }
   ],
   "source": [
    "# let's see how many traning images we have\n",
    "\n",
    "len(os.listdir('./Train_images/'))"
   ]
  },
  {
   "cell_type": "markdown",
   "metadata": {},
   "source": [
    "* Create a validation set"
   ]
  },
  {
   "cell_type": "code",
   "execution_count": 7,
   "metadata": {
    "colab": {
     "base_uri": "https://localhost:8080/",
     "height": 69
    },
    "colab_type": "code",
    "executionInfo": {
     "elapsed": 1034,
     "status": "ok",
     "timestamp": 1585027969176,
     "user": {
      "displayName": "SOURABH KUMAR",
      "photoUrl": "https://lh3.googleusercontent.com/a-/AOh14GgzI8b3bKj6EzkhmqlaVoF-1-VKe5-NIoIoK9J8iQ=s64",
      "userId": "05670567564810889409"
     },
     "user_tz": -330
    },
    "id": "PjtvhfMB5zlQ",
    "outputId": "0c1aec2e-81ad-4aa6-839b-23a54c515f41"
   },
   "outputs": [
    {
     "name": "stdout",
     "output_type": "stream",
     "text": [
      "Train shape :  (200840, 5)\n",
      "New Train shape :  (160672, 5)\n",
      "Validation shape :  (40168, 5)\n"
     ]
    }
   ],
   "source": [
    "# creating a validation set from the Train folder\n",
    "\n",
    "df_train = pd.read_csv('./data/train.csv')\n",
    "\n",
    "print('Train shape : ',df_train.shape)\n",
    "\n",
    "# let's randomly sample 20 percent of data and place it under df_val, then we will move all the files from Train_images\n",
    "# to Val_images which entries are present in df_val\n",
    "\n",
    "df_val = df_train.sample((20 * df_train.shape[0])//100)\n",
    "\n",
    "df_new_train = df_train.drop(df_val.index)\n",
    "\n",
    "print('New Train shape : ',df_new_train.shape)\n",
    "print('Validation shape : ',df_val.shape)\n",
    "\n",
    "if os.path.isdir('./annotations') == False:\n",
    "    os.mkdir('./annotations')\n",
    "\n",
    "df_new_train.to_csv('./annotations/Train_annotation.csv',index = False)\n",
    "df_val.to_csv('./annotations/Val_annotation.csv',index = False)"
   ]
  },
  {
   "cell_type": "markdown",
   "metadata": {},
   "source": [
    "* Tranning Dataset Class"
   ]
  },
  {
   "cell_type": "code",
   "execution_count": 8,
   "metadata": {
    "colab": {},
    "colab_type": "code",
    "id": "pRKugbW823D_"
   },
   "outputs": [],
   "source": [
    "## Don't load the images in the __init__ , load it inside __getitem__ , memory efficient \n",
    "\n",
    "class BengaliHandwrittenDataset(Dataset):\n",
    "    \"\"\" Bengali Handwritten dataset \"\"\"\n",
    "\n",
    "    def __init__(self,csv_file,root_dir,transform  = \"train\",image_height = None,image_width = None,mean = None,std = None):\n",
    "        \"\"\"\n",
    "        Args : \n",
    "        csv_file : annotation file\n",
    "        root_dir : image dir\n",
    "        transform : set on which aug will be applied    \n",
    "        \"\"\"\n",
    "        self.labels = pd.read_csv(csv_file)\n",
    "        self.root_dir = root_dir\n",
    "        self.image_height = image_height\n",
    "        self.image_width = image_width\n",
    "        self.mean = mean\n",
    "        self.std = std\n",
    "\n",
    "        if transform == \"train\":\n",
    "            self.aug = albumentations.Compose([\n",
    "                albumentations.CenterCrop(100,200),\n",
    "                albumentations.Resize(self.image_height,self.image_width,always_apply=True),\n",
    "                albumentations.ShiftScaleRotate(rotate_limit=2,p = 0.9),\n",
    "                albumentations.Normalize(mean,std,always_apply=True)\n",
    "            ])\n",
    "        \n",
    "        if transform == \"val\":\n",
    "            self.aug = albumentations.Compose([\n",
    "                albumentations.Resize(self.image_height,self.image_width,always_apply=True),\n",
    "                albumentations.Normalize(mean,std,always_apply=True)\n",
    "            ])\n",
    "\n",
    "\n",
    "    def __len__(self):\n",
    "        return len(self.labels)\n",
    "\n",
    "    \n",
    "    def __getitem__(self, index):\n",
    "        if torch.is_tensor(index):\n",
    "            index = index.tolist()\n",
    "\n",
    "        image_name = os.path.join(self.root_dir,self.labels.iloc[index,0])\n",
    "        image = io.imread(image_name+'.jpg')\n",
    "        image = self.aug(image = image)['image']\n",
    "        image = np.transpose(image,(2,0,1))\n",
    "        label = self.labels.iloc[index,1:-1]\n",
    "        label = np.array([label]).astype(np.long)\n",
    "\n",
    "        return torch.tensor(image),torch.tensor(label,dtype=torch.long)"
   ]
  },
  {
   "cell_type": "code",
   "execution_count": 9,
   "metadata": {
    "colab": {},
    "colab_type": "code",
    "id": "0UgTriTx3R9n"
   },
   "outputs": [],
   "source": [
    "train_set = BengaliHandwrittenDataset('./annotations/Train_annotation.csv','./Train_images',transform = 'train',\n",
    "                                            image_height=224,image_width=224,\n",
    "                                            mean = (0.485,0.456,0.406),\n",
    "                                            std = (0.229,0.224,0.225))\n",
    "val_set = BengaliHandwrittenDataset('./annotations/Val_annotation.csv','./Train_images',transform = 'val',\n",
    "                                            image_height=224,image_width=224,\n",
    "                                            mean = (0.485,0.456,0.406),\n",
    "                                            std = (0.229,0.224,0.225))"
   ]
  },
  {
   "cell_type": "code",
   "execution_count": 10,
   "metadata": {
    "colab": {
     "base_uri": "https://localhost:8080/",
     "height": 52
    },
    "colab_type": "code",
    "executionInfo": {
     "elapsed": 696,
     "status": "ok",
     "timestamp": 1585027969400,
     "user": {
      "displayName": "SOURABH KUMAR",
      "photoUrl": "https://lh3.googleusercontent.com/a-/AOh14GgzI8b3bKj6EzkhmqlaVoF-1-VKe5-NIoIoK9J8iQ=s64",
      "userId": "05670567564810889409"
     },
     "user_tz": -330
    },
    "id": "69LKjjl78WtG",
    "outputId": "ce8038cf-d402-44de-dd26-a925aabafec7"
   },
   "outputs": [
    {
     "name": "stdout",
     "output_type": "stream",
     "text": [
      "Train_set size = 160672\n",
      "Val_set size = 40168\n"
     ]
    }
   ],
   "source": [
    "print(f'Train_set size = {len(train_set)}')\n",
    "print(f'Val_set size = {len(val_set)}')"
   ]
  },
  {
   "cell_type": "code",
   "execution_count": 11,
   "metadata": {
    "colab": {},
    "colab_type": "code",
    "id": "-xMqPcQm9X2O"
   },
   "outputs": [],
   "source": [
    "def imshow(image,label):\n",
    "    image = image.numpy()\n",
    "    image = np.transpose(image,(1,2,0))\n",
    "    plt.imshow(image)\n",
    "    plt.title(label)\n",
    "    plt.show()"
   ]
  },
  {
   "cell_type": "markdown",
   "metadata": {},
   "source": [
    "* Let's take a sample of batch-size 4 and plot on of the sample"
   ]
  },
  {
   "cell_type": "code",
   "execution_count": 12,
   "metadata": {
    "colab": {
     "base_uri": "https://localhost:8080/",
     "height": 799
    },
    "colab_type": "code",
    "executionInfo": {
     "elapsed": 210,
     "status": "ok",
     "timestamp": 1585027969701,
     "user": {
      "displayName": "SOURABH KUMAR",
      "photoUrl": "https://lh3.googleusercontent.com/a-/AOh14GgzI8b3bKj6EzkhmqlaVoF-1-VKe5-NIoIoK9J8iQ=s64",
      "userId": "05670567564810889409"
     },
     "user_tz": -330
    },
    "id": "vpzMfou28YQq",
    "outputId": "469581a9-1d4c-4191-a14b-339d39f48298"
   },
   "outputs": [
    {
     "name": "stdout",
     "output_type": "stream",
     "text": [
      "sample batch_sizes : \n",
      "torch.Size([4, 3, 224, 224])\n",
      "torch.Size([4, 1, 3])\n",
      "zeroth sample : \n",
      "tensor([[[2.2318, 2.2318, 2.2318,  ..., 2.2147, 2.2147, 2.2147],\n",
      "         [2.2147, 2.2147, 2.2147,  ..., 2.2147, 2.2147, 2.2147],\n",
      "         [2.2147, 2.2147, 2.2147,  ..., 2.2147, 2.2147, 2.2147],\n",
      "         ...,\n",
      "         [2.2147, 2.2318, 2.2489,  ..., 2.2318, 2.2318, 2.2318],\n",
      "         [2.2147, 2.2318, 2.2489,  ..., 2.2318, 2.2318, 2.2318],\n",
      "         [2.2147, 2.2318, 2.2489,  ..., 2.2318, 2.2318, 2.2318]],\n",
      "\n",
      "        [[2.4111, 2.4111, 2.4111,  ..., 2.3936, 2.3936, 2.3936],\n",
      "         [2.3936, 2.3936, 2.3936,  ..., 2.3936, 2.3936, 2.3936],\n",
      "         [2.3936, 2.3936, 2.3936,  ..., 2.3936, 2.3936, 2.3936],\n",
      "         ...,\n",
      "         [2.3936, 2.4111, 2.4286,  ..., 2.4111, 2.4111, 2.4111],\n",
      "         [2.3936, 2.4111, 2.4286,  ..., 2.4111, 2.4111, 2.4111],\n",
      "         [2.3936, 2.4111, 2.4286,  ..., 2.4111, 2.4111, 2.4111]],\n",
      "\n",
      "        [[2.6226, 2.6226, 2.6226,  ..., 2.6051, 2.6051, 2.6051],\n",
      "         [2.6051, 2.6051, 2.6051,  ..., 2.6051, 2.6051, 2.6051],\n",
      "         [2.6051, 2.6051, 2.6051,  ..., 2.6051, 2.6051, 2.6051],\n",
      "         ...,\n",
      "         [2.6051, 2.6226, 2.6400,  ..., 2.6226, 2.6226, 2.6226],\n",
      "         [2.6051, 2.6226, 2.6400,  ..., 2.6226, 2.6226, 2.6226],\n",
      "         [2.6051, 2.6226, 2.6400,  ..., 2.6226, 2.6226, 2.6226]]])\n",
      "tensor([[64,  1,  0]])\n",
      "----------------------------------\n",
      "zeroth  sample plot -------\n"
     ]
    },
    {
     "name": "stderr",
     "output_type": "stream",
     "text": [
      "Clipping input data to the valid range for imshow with RGB data ([0..1] for floats or [0..255] for integers).\n"
     ]
    },
    {
     "data": {
      "image/png": "[encoded data removed]",
      "text/plain": [
       "<Figure size 432x288 with 1 Axes>"
      ]
     },
     "metadata": {
      "needs_background": "light"
     },
     "output_type": "display_data"
    }
   ],
   "source": [
    "# Let's test the dataset with dataloader\n",
    "BATCH_SIZE = 4\n",
    "\n",
    "train_loader = DataLoader(train_set,batch_size = BATCH_SIZE,shuffle=True)\n",
    "\n",
    "val_loader = DataLoader(val_set,batch_size = BATCH_SIZE,shuffle=True)\n",
    "\n",
    "iter_ = iter(train_loader)\n",
    "images,labels = iter_.next()\n",
    "\n",
    "print('sample batch_sizes : ')\n",
    "print(images.shape)\n",
    "print(labels.shape)\n",
    "\n",
    "print('zeroth sample : ')\n",
    "print(images[0])\n",
    "print(labels[0])\n",
    "print('----------------------------------')\n",
    "# let's plot zeroth sample\n",
    "print(\"zeroth  sample plot -------\")\n",
    "imshow(images[0],labels[0])"
   ]
  },
  {
   "cell_type": "markdown",
   "metadata": {},
   "source": [
    "* The Model class"
   ]
  },
  {
   "cell_type": "code",
   "execution_count": 19,
   "metadata": {
    "colab": {},
    "colab_type": "code",
    "id": "2hcaXHfB8zJV"
   },
   "outputs": [],
   "source": [
    "# Let's write Model class\n",
    "\n",
    "class Model_ResNet_34(nn.Module):\n",
    "\n",
    "    def __init__(self,use_pretrained = False):\n",
    "        super(Model_ResNet_34,self).__init__()\n",
    "\n",
    "        if use_pretrained:\n",
    "            self.base_model_arc  = models.resnet34(pretrained = True)\n",
    "        else:\n",
    "            self.base_model_arc = models.resnet34()\n",
    "\n",
    "        self.base_model_components = list(self.base_model_arc.children())[:-1] # take all the layers except the last one\n",
    "\n",
    "        self.base_model = nn.Sequential(*self.base_model_components)\n",
    "        \n",
    "        # all the CNN layers will calculate good image representation\n",
    "        \n",
    "        # now we will add 3 fully connected layer that will classify 3 categories.\n",
    "        \n",
    "        self.fc_1 = nn.Linear(512,168)\n",
    "        self.fc_2 = nn.Linear(512,11)\n",
    "        self.fc_3 = nn.Linear(512,7)\n",
    "\n",
    "    def forward(self,x):\n",
    "        bs ,_,_,_ = x.shape\n",
    "        x = self.base_model(x)\n",
    "        x = F.adaptive_avg_pool2d(x,1).reshape(bs,-1)\n",
    "        fc_1 = self.fc_1(x)\n",
    "        fc_2 = self.fc_2(x)\n",
    "        fc_3 = self.fc_3(x)\n",
    "\n",
    "        return fc_1,fc_2,fc_3    \n"
   ]
  },
  {
   "cell_type": "markdown",
   "metadata": {},
   "source": [
    "* Check if the model output is same as we except"
   ]
  },
  {
   "cell_type": "code",
   "execution_count": 14,
   "metadata": {
    "colab": {
     "base_uri": "https://localhost:8080/",
     "height": 34
    },
    "colab_type": "code",
    "executionInfo": {
     "elapsed": 725,
     "status": "ok",
     "timestamp": 1585027972079,
     "user": {
      "displayName": "SOURABH KUMAR",
      "photoUrl": "https://lh3.googleusercontent.com/a-/AOh14GgzI8b3bKj6EzkhmqlaVoF-1-VKe5-NIoIoK9J8iQ=s64",
      "userId": "05670567564810889409"
     },
     "user_tz": -330
    },
    "id": "LCQPH9VHAuw9",
    "outputId": "cda63b7e-5568-4c29-9a8f-d2413b42e4fd"
   },
   "outputs": [
    {
     "name": "stdout",
     "output_type": "stream",
     "text": [
      "torch.Size([4, 168]) torch.Size([4, 11]) torch.Size([4, 7])\n"
     ]
    }
   ],
   "source": [
    "# let' see if the model is working or not\n",
    "m_reset_34 = Model_ResNet_34()\n",
    "op_1,op_2,op_3 = m_reset_34(images)\n",
    "print(op_1.shape,op_2.shape,op_3.shape)"
   ]
  },
  {
   "cell_type": "markdown",
   "metadata": {},
   "source": [
    "* Now we will define\n",
    "    - Loss fn\n",
    "    - train fn\n",
    "    - validation loss calc fn"
   ]
  },
  {
   "cell_type": "code",
   "execution_count": 15,
   "metadata": {
    "colab": {},
    "colab_type": "code",
    "id": "DxLIrfHfDJdB"
   },
   "outputs": [],
   "source": [
    "def loss_fn(outputs,targets):\n",
    "    op_1,op_2,op_3 = outputs\n",
    "    t_1, t_2, t_3 = targets[ : ,:,0].argmax(1),targets[ : ,:,1].argmax(1),targets[ : ,:,2].argmax(1)\n",
    "\n",
    "    l_1 = nn.CrossEntropyLoss()(op_1,t_1)\n",
    "    l_2 = nn.CrossEntropyLoss()(op_2,t_2)\n",
    "    l_3 = nn.CrossEntropyLoss()(op_3,t_3)\n",
    "\n",
    "    return (l_1 + l_2 + l_3) / 3\n",
    "\n",
    "\n",
    "\n",
    "def train(dataloader, dataset, model, opt):\n",
    "    model.train()\n",
    "    model = model.to(device)\n",
    "\n",
    "    for batch_index,data  in tqdm(enumerate(dataloader), total = len(dataset) // dataloader.batch_size):\n",
    "        inputs,labels = data\n",
    "        inputs, labels = inputs.to(device), labels.to(device)\n",
    "\n",
    "        opt.zero_grad()\n",
    "\n",
    "        outputs = model(inputs)\n",
    "\n",
    "        loss = loss_fn(outputs,labels)\n",
    "\n",
    "        loss.backward()\n",
    "        opt.step()\n",
    "\n",
    "        del inputs, labels, outputs # to reduce memory usage in the GPU.\n",
    "        torch.cuda.empty_cache()\n",
    "\n",
    "\n",
    "def eval(dataloader, dataset, model,DEVICE):\n",
    "    model = model.to(DEVICE)\n",
    "    model.eval()\n",
    "    final_loss = 0\n",
    "    counter = 0\n",
    "    for batch_index,data  in tqdm(enumerate(dataloader), total = len(dataset) // dataloader.batch_size):\n",
    "        inputs,labels = data\n",
    "        inputs, labels = inputs.to(DEVICE), labels.to(DEVICE)\n",
    "\n",
    "        outputs = model(inputs)\n",
    "\n",
    "        loss = loss_fn(outputs,labels)\n",
    "\n",
    "        counter += 1\n",
    "\n",
    "        final_loss += loss.item() # if we don't do .item() here, you will run out of GPU memory as all the loss will be \n",
    "                                  # accumulated on the gpu, .item() will transfer them to cpu i.e store it on RAM\n",
    "        del inputs, labels, outputs # to reduce memory usage in the GPU.\n",
    "        torch.cuda.empty_cache()\n",
    "    return final_loss / counter   \n"
   ]
  },
  {
   "cell_type": "code",
   "execution_count": 17,
   "metadata": {
    "colab": {},
    "colab_type": "code",
    "id": "itH3-6JQR8jG"
   },
   "outputs": [],
   "source": [
    "def learn(BATCH_SIZE,epochs,train_set,val_set):\n",
    "    train_loader = DataLoader(train_set,batch_size = BATCH_SIZE,shuffle=True)\n",
    "\n",
    "    val_loader = DataLoader(val_set,batch_size = 4,shuffle=True)\n",
    "\n",
    "    m_reset_34 = Model_ResNet_34(use_pretrained=True)\n",
    "\n",
    "    optimizer = torch.optim.Adam(m_reset_34.parameters(),lr = 1e-4)\n",
    "\n",
    "    for e in range(epochs):\n",
    "        train(train_loader,train_set,m_reset_34,optimizer)\n",
    "        \n",
    "        if os.path.isdir('./Models') == False:\n",
    "            os.mkdir('./Models')\n",
    "            \n",
    "        torch.save(m_reset_34.state_dict(),f'./Models/m_reset_34_epoch_{e}.pth')\n",
    "        \n",
    "        val_score = eval(val_loader,val_set,m_reset_34,device)\n",
    "\n",
    "        print(f'Validation loss : {val_score}')    \n"
   ]
  },
  {
   "cell_type": "code",
   "execution_count": 18,
   "metadata": {},
   "outputs": [
    {
     "name": "stderr",
     "output_type": "stream",
     "text": [
      "1030it [24:45,  1.47s/it]                                                                                                            \n",
      "100%|██████████████████████████████████████████████████████████████████████████████████████████| 10042/10042 [04:44<00:00, 35.35it/s]\n"
     ]
    },
    {
     "name": "stdout",
     "output_type": "stream",
     "text": [
      "Validation loss : 0.0007841504124501263\n"
     ]
    },
    {
     "name": "stderr",
     "output_type": "stream",
     "text": [
      "1030it [25:32,  1.44s/it]                                                                                                            \n",
      "100%|██████████████████████████████████████████████████████████████████████████████████████████| 10042/10042 [04:49<00:00, 34.73it/s]\n"
     ]
    },
    {
     "name": "stdout",
     "output_type": "stream",
     "text": [
      "Validation loss : 0.0002276020365027859\n"
     ]
    }
   ],
   "source": [
    "learn(156,2,train_set,val_set)"
   ]
  },
  {
   "cell_type": "markdown",
   "metadata": {},
   "source": [
    "* Unpack test-data\n",
    "* Write dataset class for test-data\n",
    "* Write a fn that will create submission file"
   ]
  },
  {
   "cell_type": "code",
   "execution_count": 20,
   "metadata": {},
   "outputs": [
    {
     "name": "stdout",
     "output_type": "stream",
     "text": [
      "Transforming ./data\\test_image_data_0.parquet from Test :\n",
      "\n"
     ]
    },
    {
     "name": "stderr",
     "output_type": "stream",
     "text": [
      "100%|█████████████████████████████████████████████████████████████████████████████████████████████| 3/3 [00:00<00:00, 600.01 image/s]\n"
     ]
    },
    {
     "name": "stdout",
     "output_type": "stream",
     "text": [
      "Transforming ./data\\test_image_data_1.parquet from Test :\n",
      "\n"
     ]
    },
    {
     "name": "stderr",
     "output_type": "stream",
     "text": [
      "100%|█████████████████████████████████████████████████████████████████████████████████████████████| 3/3 [00:00<00:00, 600.13 image/s]\n"
     ]
    },
    {
     "name": "stdout",
     "output_type": "stream",
     "text": [
      "Transforming ./data\\test_image_data_2.parquet from Test :\n",
      "\n"
     ]
    },
    {
     "name": "stderr",
     "output_type": "stream",
     "text": [
      "100%|█████████████████████████████████████████████████████████████████████████████████████████████| 3/3 [00:00<00:00, 600.04 image/s]\n"
     ]
    },
    {
     "name": "stdout",
     "output_type": "stream",
     "text": [
      "Transforming ./data\\test_image_data_3.parquet from Test :\n",
      "\n"
     ]
    },
    {
     "name": "stderr",
     "output_type": "stream",
     "text": [
      "100%|█████████████████████████████████████████████████████████████████████████████████████████████| 3/3 [00:00<00:00, 749.96 image/s]\n"
     ]
    }
   ],
   "source": [
    "# let's unpack test sets\n",
    "files_location = \"./data/\"\n",
    "transform_data(files_location,set_ = \"Test\")"
   ]
  },
  {
   "cell_type": "code",
   "execution_count": 21,
   "metadata": {},
   "outputs": [],
   "source": [
    "# Dataset_class for Test sets\n",
    "\n",
    "class BengaliHandwrittenDataset_Test(Dataset):\n",
    "    \"\"\" Bengali Handwritten dataset \"\"\"\n",
    "\n",
    "    def __init__(self,csv_file,root_dir,transform  = \"val\",image_height = None,image_width = None,mean = None,std = None):\n",
    "        \"\"\"\n",
    "        Args : \n",
    "        csv_file : annotation file\n",
    "        root_dir : image dir\n",
    "        transform : set on which aug will be applied    \n",
    "        \"\"\"\n",
    "        self.labels = pd.read_csv(csv_file)\n",
    "        self.root_dir = root_dir\n",
    "        self.image_height = image_height\n",
    "        self.image_width = image_width\n",
    "        self.mean = mean\n",
    "        self.std = std\n",
    "        self.img_id = self.labels.image_id.values\n",
    "        \n",
    "        if transform == \"val\":\n",
    "            self.aug = albumentations.Compose([\n",
    "                albumentations.Resize(self.image_height,self.image_width,always_apply=True),\n",
    "                albumentations.Normalize(mean,std,always_apply=True)\n",
    "            ])\n",
    "\n",
    "\n",
    "    def __len__(self):\n",
    "        return len(self.labels)\n",
    "\n",
    "    \n",
    "    def __getitem__(self, index):\n",
    "        if torch.is_tensor(index):\n",
    "            index = index.tolist()\n",
    "            \n",
    "        image_id = self.img_id[index]\n",
    "        image_name = os.path.join(self.root_dir,self.labels.iloc[index,1])\n",
    "        image = io.imread(image_name+'.jpg')\n",
    "        image = self.aug(image = image)['image']\n",
    "        image = np.transpose(image,(2,0,1))\n",
    "\n",
    "        return {\n",
    "            'image': torch.tensor(image),\n",
    "            'image_id':image_id\n",
    "        }"
   ]
  },
  {
   "cell_type": "code",
   "execution_count": 22,
   "metadata": {},
   "outputs": [],
   "source": [
    "def create_submission_file(model,dataloader,device):\n",
    "    predictions = []\n",
    "    model = model.to(device)\n",
    "    model.eval()\n",
    "    \n",
    "    for batch_index,data  in enumerate(dataloader):\n",
    "        inputs,img_ids = data['image'],data['image_id']\n",
    "        \n",
    "        inputs = inputs.to(device)\n",
    "        op_1,op_2,op_3 = model(inputs)\n",
    "        \n",
    "        _,op_1 = torch.max(op_1.data,1)\n",
    "        _,op_2 = torch.max(op_2.data,1)\n",
    "        _,op_3 = torch.max(op_3.data,1)\n",
    "        \n",
    "    \n",
    "        for ii,im_id in enumerate(img_ids):\n",
    "            predictions.append((f\"{im_id}_grapheme_root\",op_1[ii].item()))\n",
    "            predictions.append((f\"{im_id}_vowel_diacritic\",op_2[ii].item()))\n",
    "            predictions.append((f\"{im_id}_consonant_diacritic\",op_3[ii].item()))\n",
    "            \n",
    "    return predictions\n",
    "            "
   ]
  },
  {
   "cell_type": "code",
   "execution_count": 23,
   "metadata": {},
   "outputs": [],
   "source": [
    "testset = BengaliHandwrittenDataset_Test('./data/test.csv','./Test_images/',\n",
    "                                            image_height=224,image_width=224,\n",
    "                                            mean = (0.485,0.456,0.406),\n",
    "                                            std = (0.229,0.224,0.225))"
   ]
  },
  {
   "cell_type": "code",
   "execution_count": 24,
   "metadata": {},
   "outputs": [],
   "source": [
    "test_loader = DataLoader(testset,batch_size = 64)"
   ]
  },
  {
   "cell_type": "code",
   "execution_count": 25,
   "metadata": {},
   "outputs": [
    {
     "data": {
      "text/plain": [
       "<All keys matched successfully>"
      ]
     },
     "execution_count": 25,
     "metadata": {},
     "output_type": "execute_result"
    }
   ],
   "source": [
    "model = Model_ResNet_34()\n",
    "MODEL_NAME = \"m_reset_34_epoch_1.pth\"\n",
    "model.load_state_dict(torch.load(f\"./Models/{MODEL_NAME}\")) # load the trained model"
   ]
  },
  {
   "cell_type": "code",
   "execution_count": 26,
   "metadata": {},
   "outputs": [],
   "source": [
    "list_submission = create_submission_file(model,test_loader,device)"
   ]
  },
  {
   "cell_type": "code",
   "execution_count": 27,
   "metadata": {},
   "outputs": [],
   "source": [
    "df_sub = pd.DataFrame(data = list_submission,columns = ['row_id','target'])"
   ]
  },
  {
   "cell_type": "code",
   "execution_count": 28,
   "metadata": {},
   "outputs": [
    {
     "data": {
      "text/html": [
       "<div>\n",
       "<style scoped>\n",
       "    .dataframe tbody tr th:only-of-type {\n",
       "        vertical-align: middle;\n",
       "    }\n",
       "\n",
       "    .dataframe tbody tr th {\n",
       "        vertical-align: top;\n",
       "    }\n",
       "\n",
       "    .dataframe thead th {\n",
       "        text-align: right;\n",
       "    }\n",
       "</style>\n",
       "<table border=\"1\" class=\"dataframe\">\n",
       "  <thead>\n",
       "    <tr style=\"text-align: right;\">\n",
       "      <th></th>\n",
       "      <th>row_id</th>\n",
       "      <th>target</th>\n",
       "    </tr>\n",
       "  </thead>\n",
       "  <tbody>\n",
       "    <tr>\n",
       "      <th>0</th>\n",
       "      <td>Test_0_grapheme_root</td>\n",
       "      <td>0</td>\n",
       "    </tr>\n",
       "    <tr>\n",
       "      <th>1</th>\n",
       "      <td>Test_0_vowel_diacritic</td>\n",
       "      <td>0</td>\n",
       "    </tr>\n",
       "    <tr>\n",
       "      <th>2</th>\n",
       "      <td>Test_0_consonant_diacritic</td>\n",
       "      <td>0</td>\n",
       "    </tr>\n",
       "    <tr>\n",
       "      <th>3</th>\n",
       "      <td>Test_0_grapheme_root</td>\n",
       "      <td>0</td>\n",
       "    </tr>\n",
       "    <tr>\n",
       "      <th>4</th>\n",
       "      <td>Test_0_vowel_diacritic</td>\n",
       "      <td>0</td>\n",
       "    </tr>\n",
       "  </tbody>\n",
       "</table>\n",
       "</div>"
      ],
      "text/plain": [
       "                       row_id  target\n",
       "0        Test_0_grapheme_root       0\n",
       "1      Test_0_vowel_diacritic       0\n",
       "2  Test_0_consonant_diacritic       0\n",
       "3        Test_0_grapheme_root       0\n",
       "4      Test_0_vowel_diacritic       0"
      ]
     },
     "execution_count": 28,
     "metadata": {},
     "output_type": "execute_result"
    }
   ],
   "source": [
    "df_sub.head()"
   ]
  },
  {
   "cell_type": "code",
   "execution_count": 29,
   "metadata": {},
   "outputs": [],
   "source": [
    "df_sub.to_csv('submission.csv',index = False)"
   ]
  },
  {
   "cell_type": "code",
   "execution_count": null,
   "metadata": {},
   "outputs": [],
   "source": []
  }
 ],
 "metadata": {
  "colab": {
   "collapsed_sections": [],
   "name": "Kaggle_Bengali_handwritten_challenge.ipynb",
   "provenance": []
  },
  "kernelspec": {
   "display_name": "Python 3.7.5 64-bit ('pytorch_env': conda)",
   "language": "python",
   "name": "python37564bitpytorchenvconda1a599ba2df0f415ab16aa82c434e76bb"
  },
  "language_info": {
   "codemirror_mode": {
    "name": "ipython",
    "version": 3
   },
   "file_extension": ".py",
   "mimetype": "text/x-python",
   "name": "python",
   "nbconvert_exporter": "python",
   "pygments_lexer": "ipython3",
   "version": "3.7.5"
  }
 },
 "nbformat": 4,
 "nbformat_minor": 1
}
